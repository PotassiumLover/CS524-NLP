{
 "cells": [
  {
   "cell_type": "markdown",
   "metadata": {},
   "source": [
    "# Imports"
   ]
  },
  {
   "cell_type": "code",
   "execution_count": 1,
   "metadata": {},
   "outputs": [],
   "source": [
    "import re\n",
    "import os\n",
    "from Book_module.Book import Book"
   ]
  },
  {
   "cell_type": "markdown",
   "metadata": {},
   "source": [
    "# Set Global Variables"
   ]
  },
  {
   "cell_type": "code",
   "execution_count": 4,
   "metadata": {},
   "outputs": [],
   "source": [
    "DATA_SET_PATH = \"dataset\"\n"
   ]
  },
  {
   "cell_type": "markdown",
   "metadata": {},
   "source": [
    "# Get Book's"
   ]
  },
  {
   "cell_type": "code",
   "execution_count": 9,
   "metadata": {},
   "outputs": [
    {
     "name": "stdout",
     "output_type": "stream",
     "text": [
      "['813_[Maurice+Leblanc].txt', 'arsène_lupin_in_prison_[Maurice+Leblanc].txt', 'arsène_lupin_versus_herlock_sholmes_[Maurice+Leblanc].txt', 'at_the_sign_of_mercury_[Maurice+Leblanc].txt', 'a_case_of_identity_[Arthur+Conan+Doyle].txt', 'a_scandal_in_bohemia_[Arthur+Conan+Doyle].txt', 'a_study_in_scarlet_[Arthur+Conan+Doyle].txt', 'a_tragedy_in_the_forest_of_morgues_[Maurice+Leblanc].txt', 'edith_swan-neck_[Maurice+Leblanc].txt', 'footprints_in_the_snow_[Maurice+Leblanc].txt', 'his_last_bow:_the_war_service_of_sherlock_holmes_[Arthur+Conan+Doyle].txt', \"lupin's_marriage_[Maurice+Leblanc].txt\", 'madame_imbert’s_safe_[Maurice+Leblanc].txt', 'on_the_top_of_the_tower_[Maurice+Leblanc].txt', 'shadowed_by_death_[Maurice+Leblanc].txt', 'sherlock_holmes_arrives_too_late_[Maurice+Leblanc].txt', 'silver_blaze_[Arthur+Conan+Doyle].txt', 'the_adventure_of_black_peter_[Arthur+Conan+Doyle].txt', 'the_adventure_of_charles_augustus_milverton_[Arthur+Conan+Doyle].txt', 'the_adventure_of_the_abbey_grange_[Arthur+Conan+Doyle].txt', 'the_adventure_of_the_beryl_coronet_[Arthur+Conan+Doyle].txt', 'the_adventure_of_the_blue_carbuncle_[Arthur+Conan+Doyle].txt', 'the_adventure_of_the_bruce-partington_plans_[Arthur+Conan+Doyle].txt', 'the_adventure_of_the_cardboard_box_[Arthur+Conan+Doyle].txt', 'the_adventure_of_the_cheap_flat_[Agatha+Christie].txt', 'the_adventure_of_the_copper_beeches_[Arthur+Conan+Doyle].txt', 'the_adventure_of_the_dancing_men_[Arthur+Conan+Doyle].txt', 'the_adventure_of_the_devil’s_foot_[Arthur+Conan+Doyle].txt', 'the_adventure_of_the_dying_detective_[Arthur+Conan+Doyle].txt', 'the_adventure_of_the_egyptian_tomb_[Agatha+Christie].txt', 'the_adventure_of_the_empty_house_[Arthur+Conan+Doyle].txt', 'the_adventure_of_the_engineer’s_thumb_[Arthur+Conan+Doyle].txt', 'the_adventure_of_the_golden_pince-nez_[Arthur+Conan+Doyle].txt', 'the_adventure_of_the_italian_nobleman_[Agatha+Christie].txt', 'the_adventure_of_the_missing_three-quarter_[Arthur+Conan+Doyle].txt', 'the_adventure_of_the_noble_bachelor_[Arthur+Conan+Doyle].txt', 'the_adventure_of_the_norwood_builder_[Arthur+Conan+Doyle].txt', 'the_adventure_of_the_priory_school_[Arthur+Conan+Doyle].txt', 'the_adventure_of_the_red_circle_[Arthur+Conan+Doyle].txt', 'the_adventure_of_the_second_stain_[Arthur+Conan+Doyle].txt', 'the_adventure_of_the_six_napoleons_[Arthur+Conan+Doyle].txt', 'the_adventure_of_the_solitary_cyclist_[Arthur+Conan+Doyle].txt', 'the_adventure_of_the_speckled_band_[Arthur+Conan+Doyle].txt', 'the_adventure_of_the_three_students_[Arthur+Conan+Doyle].txt', 'the_adventure_of_wisteria_lodge_[Arthur+Conan+Doyle].txt', 'the_adventure_of_“the_western_star”_[Agatha+Christie].txt', 'the_arrest_of_arsène_lupin_[Maurice+Leblanc].txt', 'the_big_four_[Agatha+Christie].txt', 'the_black_pearl_[Maurice+Leblanc].txt', 'the_boscombe_valley_mystery_[Arthur+Conan+Doyle].txt', 'the_case_of_jean_louis_[Maurice+Leblanc].txt', 'the_case_of_the_missing_will_[Agatha+Christie].txt', 'the_crooked_man_[Arthur+Conan+Doyle].txt', 'the_crystal_stopper_[Maurice+Leblanc].txt', 'the_disappearance_of_lady_frances_carfax_[Arthur+Conan+Doyle].txt', 'the_disappearance_of_mr._davenheim_[Agatha+Christie].txt', 'the_escape_of_arsène_lupin_[Maurice+Leblanc].txt', 'the_final_problem_[Arthur+Conan+Doyle].txt', 'the_five_orange_pips_[Arthur+Conan+Doyle].txt', 'the_golden_triangle:_the_return_of_arsène_lupin_[Maurice+Leblanc].txt', 'the_greek_interpreter_[Arthur+Conan+Doyle].txt', 'the_hollow_needle;_further_adventures_of_arsène_lupin_[Maurice+Leblanc].txt', 'the_hound_of_the_baskervilles_[Arthur+Conan+Doyle].txt', 'the_infernal_trap_[Maurice+Leblanc].txt', 'the_invisible_prisoner_[Maurice+Leblanc].txt', 'the_jewel_robbery_at_the__grand_metropolitan__[Agatha+Christie].txt', 'the_kidnapped_prime_minister_[Agatha+Christie].txt', 'the_lady_with_the_hatchet_[Maurice+Leblanc].txt', 'the_lost_world_[Arthur+Conan+Doyle].txt', 'the_man_in_the_brown_suit_[Agatha+Christie].txt', 'the_man_with_the_twisted_lip_[Arthur+Conan+Doyle].txt', 'the_million_dollar_bond_robbery_[Agatha+Christie].txt', 'the_murder_of_roger_ackroyd_[Agatha+Christie].txt', 'the_murder_on_the_links_[Agatha+Christie].txt', 'the_musgrave_ritual_[Arthur+Conan+Doyle].txt', 'the_mysterious_affair_at_styles_[Agatha+Christie].txt', 'the_mysterious_traveller_[Maurice+Leblanc].txt', 'the_mystery_of_hunter’s_lodge_[Agatha+Christie].txt', 'the_mystery_of_the_blue_train_[Agatha+Christie].txt', 'the_naval_treaty_[Arthur+Conan+Doyle].txt', 'the_queen’s_necklace_[Maurice+Leblanc].txt', 'the_red-headed_league_[Arthur+Conan+Doyle].txt', 'the_red_silk_scarf_[Maurice+Leblanc].txt', 'the_reigate_squires_[Arthur+Conan+Doyle].txt', 'the_resident_patient_[Arthur+Conan+Doyle].txt', 'the_secret_adversary_[Agatha+Christie].txt', 'the_secret_of_chimneys_[Agatha+Christie].txt', 'the_seven_of_hearts_[Maurice+Leblanc].txt', 'the_sign_of_the_four_[Arthur+Conan+Doyle].txt', 'the_sign_of_the_shadow_[Maurice+Leblanc].txt', 'the_stockbroker’s_clerk_[Arthur+Conan+Doyle].txt', 'the_teeth_of_the_tiger_[Maurice+Leblanc].txt', 'the_tell-tale_film_[Maurice+Leblanc].txt', 'the_tragedy_at_marsdon_manor_[Agatha+Christie].txt', 'the_valley_of_fear_[Arthur+Conan+Doyle].txt', 'the_water-bottle_[Maurice+Leblanc].txt', 'the_wedding-ring_[Maurice+Leblanc].txt', 'the_white_company_[Arthur+Conan+Doyle].txt', 'the_yellow_face_[Arthur+Conan+Doyle].txt', 'the_“_gloria_scott_”_[Arthur+Conan+Doyle].txt', 'thérèse_and_germaine_[Maurice+Leblanc].txt', 'two_hundred_thousand_francs_reward!..._[Maurice+Leblanc].txt']\n"
     ]
    }
   ],
   "source": [
    "book_list = os.listdir(DATA_SET_PATH)\n",
    "\n",
    "print(book_list)\n",
    "\n",
    "books = [Book]\n",
    "\n",
    "for book in book_list:\n",
    "    book_path = os.path.join(DATA_SET_PATH, book)\n",
    "    \n",
    "    books.append(Book(book_path))\n",
    "    books[-1].pre_process()\n",
    "    break\n"
   ]
  }
 ],
 "metadata": {
  "kernelspec": {
   "display_name": "nlp_proj2",
   "language": "python",
   "name": "nlp_proj2"
  },
  "language_info": {
   "codemirror_mode": {
    "name": "ipython",
    "version": 3
   },
   "file_extension": ".py",
   "mimetype": "text/x-python",
   "name": "python",
   "nbconvert_exporter": "python",
   "pygments_lexer": "ipython3",
   "version": "3.12.3"
  }
 },
 "nbformat": 4,
 "nbformat_minor": 2
}
