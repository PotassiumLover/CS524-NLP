{
 "cells": [
  {
   "cell_type": "code",
   "execution_count": 1,
   "metadata": {},
   "outputs": [
    {
     "name": "stderr",
     "output_type": "stream",
     "text": [
      "[nltk_data] Downloading package punkt to /home/zmalk/nltk_data...\n",
      "[nltk_data]   Package punkt is already up-to-date!\n",
      "[nltk_data] Downloading package maxent_ne_chunker to\n",
      "[nltk_data]     /home/zmalk/nltk_data...\n",
      "[nltk_data]   Package maxent_ne_chunker is already up-to-date!\n",
      "[nltk_data] Downloading package words to /home/zmalk/nltk_data...\n",
      "[nltk_data]   Package words is already up-to-date!\n",
      "[nltk_data] Downloading package averaged_perceptron_tagger to\n",
      "[nltk_data]     /home/zmalk/nltk_data...\n",
      "[nltk_data]   Package averaged_perceptron_tagger is already up-to-\n",
      "[nltk_data]       date!\n",
      "[nltk_data] Downloading package wordnet to /home/zmalk/nltk_data...\n",
      "[nltk_data]   Package wordnet is already up-to-date!\n",
      "[nltk_data] Downloading package stopwords to /home/zmalk/nltk_data...\n",
      "[nltk_data]   Package stopwords is already up-to-date!\n",
      "[nltk_data] Downloading package names to /home/zmalk/nltk_data...\n",
      "[nltk_data]   Package names is already up-to-date!\n",
      "[nltk_data] Downloading package vader_lexicon to\n",
      "[nltk_data]     /home/zmalk/nltk_data...\n"
     ]
    }
   ],
   "source": [
    "from Book_module.Book import Book"
   ]
  },
  {
   "cell_type": "code",
   "execution_count": 2,
   "metadata": {},
   "outputs": [],
   "source": [
    "# DOWNLOAD BOOKS AND PROCESS THEM INTO FILES HERE"
   ]
  },
  {
   "cell_type": "code",
   "execution_count": 3,
   "metadata": {},
   "outputs": [
    {
     "name": "stdout",
     "output_type": "stream",
     "text": [
      "[__init__]: Initializing book from file: books/book_temple_of_silence.txt\n",
      "[__init__]: Initializing book from file: books/book_secret_garden.txt\n",
      "[__init__]: Initializing book from file: books/book_the_hammer_of_god.txt\n"
     ]
    }
   ],
   "source": [
    "\n",
    "book_one = Book('books/book_temple_of_silence.txt')\n",
    "book_two = Book('books/book_secret_garden.txt')\n",
    "book_three = Book('books/book_the_hammer_of_god.txt')"
   ]
  },
  {
   "cell_type": "code",
   "execution_count": 4,
   "metadata": {},
   "outputs": [
    {
     "name": "stdout",
     "output_type": "stream",
     "text": [
      "get_book(): Text obtained from file 'books/book_temple_of_silence.txt'.\n",
      "Extracting chapters from the book.\n"
     ]
    },
    {
     "name": "stderr",
     "output_type": "stream",
     "text": [
      "Warning: Start of Project Gutenberg header not found.\n",
      "Warning: End of Project Gutenberg footer not found.\n"
     ]
    },
    {
     "ename": "AttributeError",
     "evalue": "'Book' object has no attribute 'tokenized_text'",
     "output_type": "error",
     "traceback": [
      "\u001b[0;31m---------------------------------------------------------------------------\u001b[0m",
      "\u001b[0;31mAttributeError\u001b[0m                            Traceback (most recent call last)",
      "Cell \u001b[0;32mIn[4], line 2\u001b[0m\n\u001b[1;32m      1\u001b[0m book_one\u001b[38;5;241m.\u001b[39mpre_process()\n\u001b[0;32m----> 2\u001b[0m \u001b[43mbook_one\u001b[49m\u001b[38;5;241;43m.\u001b[39;49m\u001b[43mfeature_extraction\u001b[49m\u001b[43m(\u001b[49m\u001b[43m)\u001b[49m\n\u001b[1;32m      3\u001b[0m book_two\u001b[38;5;241m.\u001b[39mpre_process()\n\u001b[1;32m      4\u001b[0m book_two\u001b[38;5;241m.\u001b[39mfeature_extraction()\n",
      "File \u001b[0;32m~/School/CS524-NLP/Book_module/Book.py:411\u001b[0m, in \u001b[0;36mBook.feature_extraction\u001b[0;34m(self)\u001b[0m\n\u001b[1;32m    410\u001b[0m \u001b[38;5;28;01mdef\u001b[39;00m \u001b[38;5;21mfeature_extraction\u001b[39m(\u001b[38;5;28mself\u001b[39m):\n\u001b[0;32m--> 411\u001b[0m     \u001b[38;5;28;43mself\u001b[39;49m\u001b[38;5;241;43m.\u001b[39;49m\u001b[43m__extract_first_mentions\u001b[49m\u001b[43m(\u001b[49m\u001b[43m)\u001b[49m\n\u001b[1;32m    412\u001b[0m     \u001b[38;5;28mself\u001b[39m\u001b[38;5;241m.\u001b[39m__extract_character_proximity()\n\u001b[1;32m    413\u001b[0m     \u001b[38;5;28mself\u001b[39m\u001b[38;5;241m.\u001b[39m__extract_all_mentions()\n",
      "File \u001b[0;32m~/School/CS524-NLP/Book_module/Book.py:305\u001b[0m, in \u001b[0;36mBook.__extract_first_mentions\u001b[0;34m(self)\u001b[0m\n\u001b[1;32m    301\u001b[0m \u001b[38;5;250m\u001b[39m\u001b[38;5;124;03m\"\"\"\u001b[39;00m\n\u001b[1;32m    302\u001b[0m \u001b[38;5;124;03m    Find the first mention of each name in the book by chapter\u001b[39;00m\n\u001b[1;32m    303\u001b[0m \u001b[38;5;124;03m\"\"\"\u001b[39;00m\n\u001b[1;32m    304\u001b[0m \u001b[38;5;28;01mfor\u001b[39;00m name \u001b[38;5;129;01min\u001b[39;00m \u001b[38;5;28mself\u001b[39m\u001b[38;5;241m.\u001b[39mnames:\n\u001b[0;32m--> 305\u001b[0m     \u001b[38;5;28mself\u001b[39m\u001b[38;5;241m.\u001b[39mcharacter_mentions_first[name] \u001b[38;5;241m=\u001b[39m \u001b[38;5;28;43mself\u001b[39;49m\u001b[38;5;241;43m.\u001b[39;49m\u001b[43mtokenized_text\u001b[49m\u001b[38;5;241m.\u001b[39mindex(name)\n",
      "\u001b[0;31mAttributeError\u001b[0m: 'Book' object has no attribute 'tokenized_text'"
     ]
    }
   ],
   "source": [
    "book_one.pre_process()\n",
    "book_one.feature_extraction()\n",
    "book_two.pre_process()\n",
    "book_two.feature_extraction()\n",
    "book_three.pre_process()\n",
    "book_three.feature_extraction()"
   ]
  },
  {
   "cell_type": "code",
   "execution_count": 6,
   "metadata": {},
   "outputs": [
    {
     "name": "stdout",
     "output_type": "stream",
     "text": [
      "{'francis verner': 5, 'gryce': 13, 'horne': 34}\n",
      "{'francis verner': 439, 'gryce': 1318, 'horne': 55}\n"
     ]
    }
   ],
   "source": [
    "print(book_one.character_mentions_all)\n",
    "# print(book_two.character_mentions_all)\n",
    "# print(book_three.character_mentions_all)\n",
    "print(book_one.character_mentions_first)"
   ]
  },
  {
   "cell_type": "code",
   "execution_count": null,
   "metadata": {},
   "outputs": [],
   "source": []
  }
 ],
 "metadata": {
  "kernelspec": {
   "display_name": "gclab",
   "language": "python",
   "name": "python3"
  },
  "language_info": {
   "codemirror_mode": {
    "name": "ipython",
    "version": 3
   },
   "file_extension": ".py",
   "mimetype": "text/x-python",
   "name": "python",
   "nbconvert_exporter": "python",
   "pygments_lexer": "ipython3",
   "version": "3.12.5"
  }
 },
 "nbformat": 4,
 "nbformat_minor": 2
}
