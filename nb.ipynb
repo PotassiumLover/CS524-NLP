{
 "cells": [
  {
   "cell_type": "code",
   "execution_count": 1,
   "metadata": {},
   "outputs": [
    {
     "name": "stderr",
     "output_type": "stream",
     "text": [
      "[nltk_data] Downloading package punkt to /home/zmalk/nltk_data...\n",
      "[nltk_data]   Package punkt is already up-to-date!\n",
      "[nltk_data] Downloading package maxent_ne_chunker to\n",
      "[nltk_data]     /home/zmalk/nltk_data...\n",
      "[nltk_data]   Package maxent_ne_chunker is already up-to-date!\n",
      "[nltk_data] Downloading package words to /home/zmalk/nltk_data...\n",
      "[nltk_data]   Package words is already up-to-date!\n",
      "[nltk_data] Downloading package averaged_perceptron_tagger to\n",
      "[nltk_data]     /home/zmalk/nltk_data...\n",
      "[nltk_data]   Package averaged_perceptron_tagger is already up-to-\n",
      "[nltk_data]       date!\n",
      "[nltk_data] Downloading package wordnet to /home/zmalk/nltk_data...\n",
      "[nltk_data]   Package wordnet is already up-to-date!\n",
      "[nltk_data] Downloading package stopwords to /home/zmalk/nltk_data...\n",
      "[nltk_data]   Package stopwords is already up-to-date!\n",
      "[nltk_data] Downloading package names to /home/zmalk/nltk_data...\n",
      "[nltk_data]   Package names is already up-to-date!\n",
      "[nltk_data] Downloading package vader_lexicon to\n",
      "[nltk_data]     /home/zmalk/nltk_data...\n",
      "[nltk_data]   Package vader_lexicon is already up-to-date!\n"
     ]
    }
   ],
   "source": [
    "from Book_module.Book import Book"
   ]
  },
  {
   "cell_type": "code",
   "execution_count": 2,
   "metadata": {},
   "outputs": [],
   "source": [
    "# DOWNLOAD BOOKS AND PROCESS THEM INTO FILES HERE"
   ]
  },
  {
   "cell_type": "code",
   "execution_count": 3,
   "metadata": {},
   "outputs": [
    {
     "name": "stdout",
     "output_type": "stream",
     "text": [
      "[__init__]: Initializing book from file: books/book_temple_of_silence.txt\n",
      "[__init__]: Initializing book from file: books/book_secret_garden.txt\n",
      "[__init__]: Initializing book from file: books/book_the_hammer_of_god.txt\n"
     ]
    }
   ],
   "source": [
    "\n",
    "book_one = Book('books/book_temple_of_silence.txt')\n",
    "book_two = Book('books/book_secret_garden.txt')\n",
    "book_three = Book('books/book_the_hammer_of_god.txt')"
   ]
  },
  {
   "cell_type": "code",
   "execution_count": 4,
   "metadata": {},
   "outputs": [
    {
     "name": "stdout",
     "output_type": "stream",
     "text": [
      "get_book(): Text obtained from file 'books/book_temple_of_silence.txt'.\n",
      "Extracting chapters from the book.\n"
     ]
    },
    {
     "name": "stderr",
     "output_type": "stream",
     "text": [
      "Warning: Start of Project Gutenberg header not found.\n",
      "Warning: End of Project Gutenberg footer not found.\n"
     ]
    },
    {
     "name": "stdout",
     "output_type": "stream",
     "text": [
      "get_book(): Text obtained from file 'books/book_secret_garden.txt'.\n",
      "Extracting chapters from the book.\n"
     ]
    },
    {
     "name": "stderr",
     "output_type": "stream",
     "text": [
      "Warning: Start of Project Gutenberg header not found.\n",
      "Warning: End of Project Gutenberg footer not found.\n"
     ]
    },
    {
     "name": "stdout",
     "output_type": "stream",
     "text": [
      "get_book(): Text obtained from file 'books/book_the_hammer_of_god.txt'.\n",
      "Extracting chapters from the book.\n"
     ]
    },
    {
     "name": "stderr",
     "output_type": "stream",
     "text": [
      "Warning: Start of Project Gutenberg header not found.\n",
      "Warning: End of Project Gutenberg footer not found.\n"
     ]
    }
   ],
   "source": [
    "book_one.pre_process()\n",
    "book_one.feature_extraction()\n",
    "book_two.pre_process()\n",
    "book_two.feature_extraction()\n",
    "book_three.pre_process()\n",
    "book_three.feature_extraction()"
   ]
  },
  {
   "cell_type": "code",
   "execution_count": 5,
   "metadata": {},
   "outputs": [
    {
     "name": "stdout",
     "output_type": "stream",
     "text": [
      "{'Saltoun': 11, 'Francis Verner': 0, 'Verner': 34, 'Francis': 8, 'Gryce': 13, 'Wilkins': 3}\n",
      "{'Saltoun': 324, 'Francis Verner': -1, 'Verner': 478, 'Francis': 477, 'Gryce': 1443, 'Wilkins': 1797}\n"
     ]
    }
   ],
   "source": [
    "print(book_one.character_mentions_all)\n",
    "# print(book_two.character_mentions_all)\n",
    "# print(book_three.character_mentions_all)\n",
    "print(book_one.character_mentions_first)\n",
    "print(book_one.text_tokenized)"
   ]
  },
  {
   "cell_type": "code",
   "execution_count": null,
   "metadata": {},
   "outputs": [],
   "source": []
  }
 ],
 "metadata": {
  "kernelspec": {
   "display_name": "gclab",
   "language": "python",
   "name": "python3"
  },
  "language_info": {
   "codemirror_mode": {
    "name": "ipython",
    "version": 3
   },
   "file_extension": ".py",
   "mimetype": "text/x-python",
   "name": "python",
   "nbconvert_exporter": "python",
   "pygments_lexer": "ipython3",
   "version": "3.12.5"
  }
 },
 "nbformat": 4,
 "nbformat_minor": 2
}
