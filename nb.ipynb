{
 "cells": [
  {
   "cell_type": "code",
   "execution_count": 1,
   "metadata": {},
   "outputs": [
    {
     "name": "stderr",
     "output_type": "stream",
     "text": [
      "[nltk_data] Downloading package punkt to /home/zmalk/nltk_data...\n",
      "[nltk_data]   Package punkt is already up-to-date!\n",
      "[nltk_data] Downloading package maxent_ne_chunker to\n",
      "[nltk_data]     /home/zmalk/nltk_data...\n",
      "[nltk_data]   Package maxent_ne_chunker is already up-to-date!\n",
      "[nltk_data] Downloading package words to /home/zmalk/nltk_data...\n",
      "[nltk_data]   Package words is already up-to-date!\n",
      "[nltk_data] Downloading package averaged_perceptron_tagger_eng to\n",
      "[nltk_data]     /home/zmalk/nltk_data...\n",
      "[nltk_data]   Package averaged_perceptron_tagger_eng is already up-to-\n",
      "[nltk_data]       date!\n",
      "[nltk_data] Downloading package maxent_ne_chunker_tab to\n",
      "[nltk_data]     /home/zmalk/nltk_data...\n",
      "[nltk_data]   Package maxent_ne_chunker_tab is already up-to-date!\n",
      "[nltk_data] Downloading package punkt_tab to /home/zmalk/nltk_data...\n",
      "[nltk_data]   Package punkt_tab is already up-to-date!\n"
     ]
    }
   ],
   "source": [
    "from Book_module.Book import Book"
   ]
  },
  {
   "cell_type": "code",
   "execution_count": 2,
   "metadata": {},
   "outputs": [
    {
     "name": "stdout",
     "output_type": "stream",
     "text": [
      "[__init__]: Initilizing book: 1\n",
      "[__init__]: Initilizing book: 2\n",
      "[__init__]: Initilizing book: 3\n",
      "get_book(): Text obtained for book number 1\n",
      "get_book(): Text obtained for book number 2\n",
      "get_book(): Text obtained for book number 3\n"
     ]
    },
    {
     "data": {
      "text/plain": [
       "0"
      ]
     },
     "execution_count": 2,
     "metadata": {},
     "output_type": "execute_result"
    }
   ],
   "source": [
    "book_one = Book(book_number = 1)\n",
    "book_two = Book(book_number = 2)\n",
    "book_three = Book(book_number = 3)\n",
    "\n",
    "book_1_url = \"https://www.gutenberg.org/cache/epub/1695/pg1695.txt\"   # The Man Who Was Thursday: A Nightmare\n",
    "book_2_url = \"https://www.gutenberg.org/cache/epub/204/pg204.txt\" # The innonce of father brown\n",
    "book_3_url = \"https://www.gutenberg.org/cache/epub/1720/pg1720.txt\"   # The Man Who Knew Too Much\n",
    "\n",
    "book_one.get_book(book_1_url, from_txt=True, txt_file_path=\"books/book_one.txt\")\n",
    "book_two.get_book(book_2_url, from_txt=True, txt_file_path=\"books/book_two.txt\")\n",
    "book_three.get_book(book_3_url, from_txt=True , txt_file_path=\"books/book_three.txt\")"
   ]
  },
  {
   "cell_type": "code",
   "execution_count": 3,
   "metadata": {},
   "outputs": [
    {
     "name": "stdout",
     "output_type": "stream",
     "text": [
      "Extracting chapters for book 1\n"
     ]
    }
   ],
   "source": [
    "book_one.pre_process()\n",
    "book_one.feature_extraction()"
   ]
  }
 ],
 "metadata": {
  "kernelspec": {
   "display_name": "gclab",
   "language": "python",
   "name": "python3"
  },
  "language_info": {
   "codemirror_mode": {
    "name": "ipython",
    "version": 3
   },
   "file_extension": ".py",
   "mimetype": "text/x-python",
   "name": "python",
   "nbconvert_exporter": "python",
   "pygments_lexer": "ipython3",
   "version": "3.12.5"
  }
 },
 "nbformat": 4,
 "nbformat_minor": 2
}
