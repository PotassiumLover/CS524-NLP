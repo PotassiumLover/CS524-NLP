{
 "cells": [
  {
   "cell_type": "code",
   "execution_count": 5,
   "metadata": {},
   "outputs": [],
   "source": [
    "from Book_module.Book import Book"
   ]
  },
  {
   "cell_type": "code",
   "execution_count": 6,
   "metadata": {},
   "outputs": [],
   "source": [
    "# DOWNLOAD BOOKS AND PROCESS THEM INTO FILES HERE"
   ]
  },
  {
   "cell_type": "code",
   "execution_count": 9,
   "metadata": {},
   "outputs": [
    {
     "name": "stdout",
     "output_type": "stream",
     "text": [
      "[__init__]: Initilizing book: books/book_temple_of_silence.txt\n",
      "[__init__]: Initilizing book: books/book_secret_garden.txt\n",
      "[__init__]: Initilizing book: books/book_the_hammer_of_god.txt\n"
     ]
    }
   ],
   "source": [
    "\n",
    "book_one = Book('books/book_temple_of_silence.txt')\n",
    "book_two = Book('books/book_secret_garden.txt')\n",
    "book_three = Book('books/book_the_hammer_of_god.txt')"
   ]
  },
  {
   "cell_type": "code",
   "execution_count": 10,
   "metadata": {},
   "outputs": [
    {
     "ename": "TypeError",
     "evalue": "expected string or bytes-like object, got 'NoneType'",
     "output_type": "error",
     "traceback": [
      "\u001b[0;31m---------------------------------------------------------------------------\u001b[0m",
      "\u001b[0;31mTypeError\u001b[0m                                 Traceback (most recent call last)",
      "Cell \u001b[0;32mIn[10], line 1\u001b[0m\n\u001b[0;32m----> 1\u001b[0m \u001b[43mbook_one\u001b[49m\u001b[38;5;241;43m.\u001b[39;49m\u001b[43mpre_process\u001b[49m\u001b[43m(\u001b[49m\u001b[43m)\u001b[49m\n\u001b[1;32m      2\u001b[0m book_one\u001b[38;5;241m.\u001b[39mfeature_extraction()\n",
      "File \u001b[0;32m~/School/CS524-NLP/Book_module/Book.py:386\u001b[0m, in \u001b[0;36mpre_process\u001b[0;34m(self)\u001b[0m\n\u001b[1;32m      0\u001b[0m <Error retrieving source code with stack_data see ipython/ipython#13598>\n",
      "File \u001b[0;32m~/School/CS524-NLP/Book_module/Book.py:260\u001b[0m, in \u001b[0;36m__strip_header_footer\u001b[0;34m(self)\u001b[0m\n\u001b[1;32m    256\u001b[0m \u001b[38;5;28;01mdef\u001b[39;00m \u001b[38;5;21m__extract_all_mentions\u001b[39m(\u001b[38;5;28mself\u001b[39m):\n\u001b[1;32m    257\u001b[0m \u001b[38;5;250m    \u001b[39m\u001b[38;5;124;03m\"\"\"\u001b[39;00m\n\u001b[1;32m    258\u001b[0m \u001b[38;5;124;03m        Extract the total number of mentions of each name in the book.\u001b[39;00m\n\u001b[1;32m    259\u001b[0m \u001b[38;5;124;03m    \"\"\"\u001b[39;00m\n\u001b[0;32m--> 260\u001b[0m     \u001b[38;5;28;01mfor\u001b[39;00m name \u001b[38;5;129;01min\u001b[39;00m \u001b[38;5;28mself\u001b[39m\u001b[38;5;241m.\u001b[39mnames:\n\u001b[1;32m    261\u001b[0m         \u001b[38;5;28mself\u001b[39m\u001b[38;5;241m.\u001b[39mcharacter_mentions_all[name] \u001b[38;5;241m=\u001b[39m \u001b[38;5;28mself\u001b[39m\u001b[38;5;241m.\u001b[39mtext_tokenized\u001b[38;5;241m.\u001b[39mcount(name)\n",
      "File \u001b[0;32m~/conda/envs/gclab/lib/python3.12/re/__init__.py:177\u001b[0m, in \u001b[0;36msearch\u001b[0;34m(pattern, string, flags)\u001b[0m\n\u001b[1;32m    174\u001b[0m \u001b[38;5;28;01mdef\u001b[39;00m \u001b[38;5;21msearch\u001b[39m(pattern, string, flags\u001b[38;5;241m=\u001b[39m\u001b[38;5;241m0\u001b[39m):\n\u001b[1;32m    175\u001b[0m \u001b[38;5;250m    \u001b[39m\u001b[38;5;124;03m\"\"\"Scan through string looking for a match to the pattern, returning\u001b[39;00m\n\u001b[1;32m    176\u001b[0m \u001b[38;5;124;03m    a Match object, or None if no match was found.\"\"\"\u001b[39;00m\n\u001b[0;32m--> 177\u001b[0m     \u001b[38;5;28;01mreturn\u001b[39;00m \u001b[43m_compile\u001b[49m\u001b[43m(\u001b[49m\u001b[43mpattern\u001b[49m\u001b[43m,\u001b[49m\u001b[43m \u001b[49m\u001b[43mflags\u001b[49m\u001b[43m)\u001b[49m\u001b[38;5;241;43m.\u001b[39;49m\u001b[43msearch\u001b[49m\u001b[43m(\u001b[49m\u001b[43mstring\u001b[49m\u001b[43m)\u001b[49m\n",
      "\u001b[0;31mTypeError\u001b[0m: expected string or bytes-like object, got 'NoneType'"
     ]
    }
   ],
   "source": [
    "book_one.pre_process()\n",
    "book_one.feature_extraction()"
   ]
  },
  {
   "cell_type": "code",
   "execution_count": 4,
   "metadata": {},
   "outputs": [
    {
     "name": "stdout",
     "output_type": "stream",
     "text": [
      "{'chamberlain': 3, 'marquis de st. eustache': 0, 'gabriel': 9, 'marquis': 71, 'tim healy': 0, 'dr. bull': 0, 'bellegarde': 1, 'ratcliffe': 25, 'bush': 2, 'zso': 2, 'lo': 2, 'risen gregory': 0, 'george': 6, 'marquis de saint eustache': 0, 'ducroix knelt': 0, 'dickens': 1, 'marquis de st.': 0, 'bull': 110, 'leaden feet': 0, 'chuck': 1, 'almond bush': 0, 'god': 33, 'joseph': 3, 'judas': 1, 'ducroix': 13, 'witherspoon': 9, 'wilks': 2, 'milton': 1, 'buttons': 6, 'buff': 2, 'paul': 4, 'lucian': 2, 'rosamond gregory': 0, \"zay you nod '\": 0, 'rosamond': 2, 'inn': 4, 'dr. renard': 0, 'grey clothes': 0, 'gogol': 37, 'gras': 0, 'marquis de saint': 0, 'chairman': 9, 'dr.': 0, 'gabriel syme': 0, 'syme': 518}\n"
     ]
    }
   ],
   "source": [
    "print(book_one.character_mentions_all)"
   ]
  }
 ],
 "metadata": {
  "kernelspec": {
   "display_name": "gclab",
   "language": "python",
   "name": "python3"
  },
  "language_info": {
   "codemirror_mode": {
    "name": "ipython",
    "version": 3
   },
   "file_extension": ".py",
   "mimetype": "text/x-python",
   "name": "python",
   "nbconvert_exporter": "python",
   "pygments_lexer": "ipython3",
   "version": "3.12.5"
  }
 },
 "nbformat": 4,
 "nbformat_minor": 2
}
